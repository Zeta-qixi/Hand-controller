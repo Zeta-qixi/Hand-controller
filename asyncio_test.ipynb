{
 "metadata": {
  "language_info": {
   "codemirror_mode": {
    "name": "ipython",
    "version": 3
   },
   "file_extension": ".py",
   "mimetype": "text/x-python",
   "name": "python",
   "nbconvert_exporter": "python",
   "pygments_lexer": "ipython3",
   "version": "3.7.9"
  },
  "orig_nbformat": 2,
  "kernelspec": {
   "name": "python379jvsc74a57bd0a72f6818ad3f59628fcc02f6d26e1f12e41aeecc09e8a3393543630f5dded0b0",
   "display_name": "Python 3.7.9 64-bit ('z-cv': conda)"
  }
 },
 "nbformat": 4,
 "nbformat_minor": 2,
 "cells": [
  {
   "cell_type": "code",
   "execution_count": 4,
   "metadata": {},
   "outputs": [],
   "source": [
    "from time import sleep\n",
    "\n",
    "def test():\n",
    "    i = 0\n",
    "    while True:\n",
    "        i += 1\n",
    "        sleep(0.2)\n",
    "        print('-')\n",
    "        yield i"
   ]
  },
  {
   "cell_type": "code",
   "execution_count": 5,
   "metadata": {},
   "outputs": [
    {
     "output_type": "stream",
     "name": "stdout",
     "text": [
      "-\n",
      "1\n",
      "-\n",
      "2\n",
      "-\n",
      "3\n",
      "-\n",
      "4\n",
      "-\n",
      "5\n",
      "-\n",
      "6\n",
      "-\n",
      "7\n",
      "-\n",
      "8\n",
      "-\n",
      "9\n",
      "-\n",
      "10\n",
      "-\n",
      "11\n"
     ]
    }
   ],
   "source": [
    "for k in test():\n",
    "    print(k)\n",
    "    if k > 10:\n",
    "        break"
   ]
  },
  {
   "cell_type": "code",
   "execution_count": null,
   "metadata": {},
   "outputs": [],
   "source": []
  }
 ]
}