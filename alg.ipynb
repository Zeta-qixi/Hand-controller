{
 "metadata": {
  "language_info": {
   "codemirror_mode": {
    "name": "ipython",
    "version": 3
   },
   "file_extension": ".py",
   "mimetype": "text/x-python",
   "name": "python",
   "nbconvert_exporter": "python",
   "pygments_lexer": "ipython3",
   "version": "3.7.9"
  },
  "orig_nbformat": 2,
  "kernelspec": {
   "name": "python3",
   "display_name": "Python 3",
   "language": "python"
  }
 },
 "nbformat": 4,
 "nbformat_minor": 2,
 "cells": [
  {
   "cell_type": "code",
   "execution_count": 336,
   "metadata": {},
   "outputs": [],
   "source": [
    "import json\n",
    "import os\n",
    "\n",
    "from sklearn.model_selection import train_test_split# train/test\n",
    "\n"
   ]
  },
  {
   "cell_type": "code",
   "execution_count": 494,
   "metadata": {},
   "outputs": [],
   "source": [
    "import numpy as np\n",
    "import pandas as pd\n",
    "import random\n",
    "path = \"../data/mark.json\"\n",
    "with open(path) as f:\n",
    "    data = json.load(f)\n",
    "\n",
    "#提取数据\n",
    "num = 150\n",
    "other_n = 5\n",
    "a0 = np.array(random.sample(data['0'], num))\n",
    "l0 = np.ones((num))*0\n",
    "a1 = np.array(random.sample(data['1'], num))\n",
    "l1 = np.ones((num))*1\n",
    "a2 = np.array(random.sample(data['2'], num))\n",
    "l2 = np.ones((num))*2\n",
    "a5 = np.array(random.sample(data['5'], num))\n",
    "l5 = np.ones((num))*5\n",
    "other = np.array(random.sample(data['other'], num*other_n))\n",
    "l_other = np.ones((num*other_n))*9\n",
    "all_label = np.hstack((l0,l1,l2,l5,l_other))\n",
    "all_data = np.vstack((a0,a1,a2,a5,other))\n",
    "\n",
    "'''\n",
    "手势识别模块\n",
    "只传入20个节点\n",
    "\n",
    "'''\n",
    "#input 20*3 --> output 20*1\n",
    "# \n",
    "def cal_l(list):\n",
    "    new_list = []\n",
    "    for x in list[1:]:\n",
    "        l = (x[0]**2+x[1]**2+x[2]**2)\n",
    "        new_list.append(l)\n",
    "    return [new_list[3], new_list[7],new_list[11],new_list[15],new_list[19]]\n",
    "\n",
    "all_data_ = []\n",
    "for i in all_data:\n",
    "    all_data_.append(cal_l(i))\n",
    "\n",
    "all_data = np.array(all_data_)\n",
    "#训练集和测试集\n",
    "X_train,X_test,y_train,y_test=train_test_split(all_data,all_label,test_size=0.2)# 7/3"
   ]
  },
  {
   "cell_type": "code",
   "execution_count": 495,
   "metadata": {},
   "outputs": [
    {
     "output_type": "execute_result",
     "data": {
      "text/plain": [
       "(270, 5)"
      ]
     },
     "metadata": {},
     "execution_count": 495
    }
   ],
   "source": [
    "X_test.shape"
   ]
  },
  {
   "cell_type": "code",
   "execution_count": 521,
   "metadata": {},
   "outputs": [
    {
     "output_type": "execute_result",
     "data": {
      "text/plain": [
       "Pipeline(steps=[('scaler', StandardScaler()),\n",
       "                ('svm_clf', SVC(coef0=1, degree=5, kernel='poly'))])"
      ]
     },
     "metadata": {},
     "execution_count": 521
    }
   ],
   "source": [
    "from sklearn.preprocessing import PolynomialFeatures\n",
    "from sklearn.pipeline import Pipeline\n",
    "from sklearn.preprocessing import StandardScaler\n",
    "from sklearn.svm import LinearSVC\n",
    "from sklearn.svm import SVC\n",
    "polynomial_svm_clf = Pipeline([ (\"poly_featutres\", PolynomialFeatures(degree=3)),\n",
    "                                (\"scaler\", StandardScaler()),\n",
    "                                (\"svm_clf\", LinearSVC(C=10, loss=\"hinge\", random_state=42)  )\n",
    "                            ])\n",
    "\n",
    "\n",
    "poly_kernel_svm_clf = Pipeline([ ( \"scaler\", StandardScaler()),\n",
    "                                 (\"svm_clf\", SVC(kernel=\"poly\", degree=5, coef0=1, C=1.0))\n",
    "                                ])\n",
    "\n",
    "rbf_kernel_svm_clf = Pipeline([\n",
    "                                (\"scaler\", StandardScaler()), \n",
    "                                (\"svm_clf\", SVC(kernel=\"rbf\", gamma='auto', C=2.0))\n",
    "                            ])\n",
    "\n",
    "#polynomial_svm_clf.fit( X_train, y_train )\n",
    "\n",
    "poly_kernel_svm_clf.fit( X_train, y_train )\n",
    "\n",
    "#rbf_kernel_svm_clf.fit( X_train, y_train )\n"
   ]
  },
  {
   "cell_type": "code",
   "execution_count": 522,
   "metadata": {},
   "outputs": [
    {
     "output_type": "stream",
     "name": "stdout",
     "text": [
      "0.6370370370370371\n"
     ]
    }
   ],
   "source": [
    "#print(polynomial_svm_clf.score(X_test, y_test))\n",
    "print(poly_kernel_svm_clf.score(X_test, y_test))\n",
    "\n",
    "#rbf_kernel_svm_clf.score(X_test, y_test)"
   ]
  },
  {
   "cell_type": "code",
   "execution_count": 26,
   "metadata": {},
   "outputs": [],
   "source": []
  },
  {
   "cell_type": "code",
   "execution_count": 52,
   "metadata": {},
   "outputs": [],
   "source": []
  },
  {
   "cell_type": "code",
   "execution_count": null,
   "metadata": {},
   "outputs": [],
   "source": []
  }
 ]
}