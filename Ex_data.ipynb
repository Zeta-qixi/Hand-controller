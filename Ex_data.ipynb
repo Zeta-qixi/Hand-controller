{
 "metadata": {
  "language_info": {
   "codemirror_mode": {
    "name": "ipython",
    "version": 3
   },
   "file_extension": ".py",
   "mimetype": "text/x-python",
   "name": "python",
   "nbconvert_exporter": "python",
   "pygments_lexer": "ipython3",
   "version": "3.7.9"
  },
  "orig_nbformat": 2,
  "kernelspec": {
   "name": "python3",
   "display_name": "Python 3.7.9 64-bit ('z-cv': conda)",
   "metadata": {
    "interpreter": {
     "hash": "a72f6818ad3f59628fcc02f6d26e1f12e41aeecc09e8a3393543630f5dded0b0"
    }
   }
  }
 },
 "nbformat": 4,
 "nbformat_minor": 2,
 "cells": [
  {
   "cell_type": "code",
   "execution_count": 31,
   "metadata": {},
   "outputs": [
    {
     "output_type": "execute_result",
     "data": {
      "text/plain": [
       "'\\n获取手势mark数据与label, 保存到xml/json 用于动态手势训练\\n'"
      ]
     },
     "metadata": {},
     "execution_count": 31
    }
   ],
   "source": [
    "'''\n",
    "获取手势mark数据与label, 保存到xml/json 用于动态手势训练\n",
    "'''\n"
   ]
  },
  {
   "cell_type": "code",
   "execution_count": 32,
   "metadata": {},
   "outputs": [],
   "source": [
    "import cv2\n",
    "import json\n",
    "import mediapipe as mp\n",
    "import os\n",
    "import pandas as pd\n",
    "from PIL import Image\n",
    "mp_drawing = mp.solutions.drawing_utils\n",
    "mp_hands = mp.solutions.hands\n",
    "import random\n",
    "import matplotlib.pyplot as plt"
   ]
  },
  {
   "cell_type": "code",
   "execution_count": 33,
   "metadata": {},
   "outputs": [],
   "source": [
    "\n",
    "\n",
    "cfile = '/Users/mac/vscode/python/ML/data/all_pic/'\n",
    "file_list = os.listdir(cfile)\n",
    "df = pd.DataFrame(file_list,columns=['name'])\n",
    "\n",
    "df_0 = df[df.name.str.contains('_0')]\n",
    "df_1 = df[df.name.str.contains('_1')]\n",
    "df_2 = df[df.name.str.contains('_2')]\n",
    "df_5 = df[df.name.str.contains('_5')]\n",
    "other_label = ['_3', '_4', '_6', '_7', '_8', '_9']\n",
    "other_labels = '|'.join(other_label)\n",
    "df_other = df[df.name.str.contains(other_labels)]\n"
   ]
  },
  {
   "cell_type": "code",
   "execution_count": 35,
   "metadata": {},
   "outputs": [
    {
     "output_type": "execute_result",
     "data": {
      "text/plain": [
       "1109"
      ]
     },
     "metadata": {},
     "execution_count": 35
    }
   ],
   "source": [
    "len(df_other)"
   ]
  },
  {
   "cell_type": "code",
   "execution_count": 36,
   "metadata": {},
   "outputs": [],
   "source": [
    "'''\n",
    "数据增强处理 数据归一化处理\n",
    "\n",
    "所有mark都 减去 mark[0]\n",
    "\n",
    "'''\n",
    "hands = mp_hands.Hands(\n",
    "    static_image_mode=True,\n",
    "    max_num_hands=1,\n",
    "    min_detection_confidence=0.7)\n",
    "\n",
    "def mirror(image):\n",
    "    img = cv2.flip(image,2)\n",
    "    return img\n",
    "\n",
    "def rotate(image):\n",
    "    rows, cols = image.shape[:2]\n",
    "    r = random.random()*90 - 45\n",
    "    s = random.random()*0.15 + 0.9\n",
    "    M = cv2.getRotationMatrix2D((cols / 2, rows / 2), r, s)#中心 角度 缩放s\n",
    "    dst = cv2.warpAffine(image, M, (cols, rows))\n",
    "    return dst\n",
    "\n",
    "\n",
    "#正则化\n",
    "def get_float(s):\n",
    "    return (float(s.split(':')[-1]))\n",
    "def regularization(mark_list):\n",
    "    xyz_ = []\n",
    "    x0 = get_float(mark_list[0][0])\n",
    "    y0 = get_float(mark_list[0][1])\n",
    "    z0 = get_float(mark_list[0][2])\n",
    "    for i, m in enumerate(mark_list):\n",
    "        x = get_float(m[0]) - x0\n",
    "        y = get_float(m[1]) - y0\n",
    "        z = get_float(m[2]) - z0\n",
    "        xyz_.append([x,y,z])\n",
    "    return ([(x0), (y0), (z0)], xyz_)\n",
    "\n",
    "# 获取mark数据\n",
    "def take_mark_data(image):\n",
    "    results = hands.process(image)\n",
    "    if results.multi_hand_landmarks:\n",
    "        marks = str(results.multi_hand_landmarks[0])\n",
    "        marks = marks.replace(' ','').replace('\\n',' ').split('landmark')\n",
    "        marks.pop(0)\n",
    "        mark_list=[]\n",
    "        for i in marks:\n",
    "            mark_list.append(i.split(' ')[1:6])\n",
    "        xyz0, xyz_ = regularization(mark_list)\n",
    "        xyz_[0] = xyz0\n",
    "        return (xyz_)\n",
    "        # 画图\n",
    "        # annotated_image = image.copy()\n",
    "        # for hand_landmarks in results.multi_hand_landmarks:\n",
    "        #     #print('hand_landmarks:', hand_landmarks)\n",
    "        #     mp_drawing.draw_landmarks(\n",
    "        #         annotated_image, hand_landmarks, mp_hands.HAND_CONNECTIONS)\n",
    "        # im = Image.fromarray(annotated_image)\n",
    "        # plt.imshow(im)\n",
    "    else:\n",
    "        \n",
    "        return False\n",
    "\n"
   ]
  },
  {
   "cell_type": "code",
   "execution_count": 41,
   "metadata": {},
   "outputs": [],
   "source": [
    "path = \"../data/mark.json\"\n",
    "with open(path) as f:\n",
    "    data = json.load(f)"
   ]
  },
  {
   "cell_type": "code",
   "execution_count": 42,
   "metadata": {},
   "outputs": [
    {
     "output_type": "execute_result",
     "data": {
      "text/plain": [
       "257"
      ]
     },
     "metadata": {},
     "execution_count": 42
    }
   ],
   "source": [
    "len(data['2'])"
   ]
  },
  {
   "cell_type": "code",
   "execution_count": 43,
   "metadata": {},
   "outputs": [
    {
     "output_type": "stream",
     "name": "stdout",
     "text": [
      "188 261 234 186\n"
     ]
    }
   ],
   "source": [
    "print(len(df_0),len(df_1),len(df_2),len(df_5))"
   ]
  },
  {
   "cell_type": "code",
   "execution_count": 48,
   "metadata": {},
   "outputs": [],
   "source": [
    "'''\n",
    "To do!\n",
    "'''\n",
    "def add_data(num,label:str,df_):\n",
    "    get_mark_ = df_.name.sample(num)\n",
    "    label = label\n",
    "\n",
    "    for n in get_mark_:\n",
    "\n",
    "        file = cfile + '/' + n\n",
    "        #label = n.split('_')[-1].split('.')[0]\n",
    "        image = cv2.flip(cv2.cvtColor(cv2.imread(file), cv2.COLOR_BGR2RGB), 1) #垂直翻转 转颜色通道\n",
    "        if random.random()>0.5:\n",
    "            image = mirror(image)\n",
    "        image = rotate(image)\n",
    "\n",
    "        xyz  = take_mark_data(image)\n",
    "\n",
    "        if label not in data:\n",
    "            data.setdefault(label,[])\n",
    "            \n",
    "        if xyz:\n",
    "            data[label].append(xyz)\n",
    "\n",
    "    print(len(data[label]))"
   ]
  },
  {
   "cell_type": "code",
   "execution_count": 50,
   "metadata": {},
   "outputs": [
    {
     "output_type": "stream",
     "name": "stdout",
     "text": [
      "484\n",
      "499\n",
      "542\n",
      "488\n"
     ]
    }
   ],
   "source": [
    "add_data(180, '0', df_1)\n",
    "add_data(180, '1', df_1)\n",
    "add_data(180, '2', df_1)\n",
    "add_data(180, '5', df_1)"
   ]
  },
  {
   "cell_type": "code",
   "execution_count": 51,
   "metadata": {},
   "outputs": [],
   "source": [
    "'''\n",
    "写入数据信息\n",
    "'''\n",
    "with open(path, \"w+\") as f:\n",
    "    json.dump(data,f)\n"
   ]
  },
  {
   "cell_type": "code",
   "execution_count": null,
   "metadata": {},
   "outputs": [],
   "source": []
  }
 ]
}