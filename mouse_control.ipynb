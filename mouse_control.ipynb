{
 "metadata": {
  "language_info": {
   "codemirror_mode": {
    "name": "ipython",
    "version": 3
   },
   "file_extension": ".py",
   "mimetype": "text/x-python",
   "name": "python",
   "nbconvert_exporter": "python",
   "pygments_lexer": "ipython3",
   "version": "3.7.9"
  },
  "orig_nbformat": 2,
  "kernelspec": {
   "name": "python379jvsc74a57bd0a72f6818ad3f59628fcc02f6d26e1f12e41aeecc09e8a3393543630f5dded0b0",
   "display_name": "Python 3.7.9 64-bit ('z-cv': conda)"
  }
 },
 "nbformat": 4,
 "nbformat_minor": 2,
 "cells": [
  {
   "cell_type": "code",
   "execution_count": 2,
   "metadata": {},
   "outputs": [],
   "source": [
    "\n",
    "from time import sleep\n",
    "from pymouse import PyMouse\n",
    "m = PyMouse()\n"
   ]
  },
  {
   "cell_type": "code",
   "execution_count": 8,
   "metadata": {},
   "outputs": [],
   "source": [
    "#拖动操作\n",
    "'''\n",
    "一定要press + drag\n",
    "'''\n",
    "t = 200\n",
    "x,y = m.position()\n",
    "\n",
    "m.click(x,y)\n",
    "m.press(x,y)\n",
    "\n",
    "d = 500/t\n",
    "for i in range(t):\n",
    "\n",
    "    m.drag(x, y- d*i)\n",
    "    \n",
    "    sleep(0.2/t)\n",
    "x,y = m.position()\n",
    "m.click(x,y)#释放鼠标，尽量不用release"
   ]
  },
  {
   "cell_type": "code",
   "execution_count": null,
   "metadata": {},
   "outputs": [],
   "source": []
  },
  {
   "cell_type": "code",
   "execution_count": 5,
   "metadata": {},
   "outputs": [],
   "source": [
    "x,y = m.position()\n",
    "\n",
    "m.click(x,y)\n",
    "m.press(x,y)\n",
    "sleep(5)\n",
    "m.release(x,y)"
   ]
  },
  {
   "cell_type": "code",
   "execution_count": 27,
   "metadata": {},
   "outputs": [],
   "source": [
    "x,y = m.position()\n",
    "m.press(x,y)\n",
    "m.move(x,y+100)"
   ]
  },
  {
   "cell_type": "code",
   "execution_count": 6,
   "metadata": {},
   "outputs": [],
   "source": [
    "#鼠标中键滑动\n",
    "x,y = m.position()\n",
    "m.click(x,y)\n",
    "sleep(0.1) #这里一定要sleep\n",
    "m.scroll(1)\n",
    "\n",
    "\n"
   ]
  },
  {
   "cell_type": "code",
   "execution_count": 6,
   "metadata": {},
   "outputs": [],
   "source": [
    "import pyautogui\n",
    "pyautogui.PAUSE = 0.3\n",
    "#https://blog.csdn.net/wblylh/article/details/114533120?utm_medium=distribute.pc_relevant_download.none-task-blog-baidujs-4.nonecase&depth_1-utm_source=distribute.pc_relevant_download.none-task-blog-baidujs-4.nonecase\n"
   ]
  },
  {
   "cell_type": "code",
   "execution_count": 43,
   "metadata": {},
   "outputs": [],
   "source": [
    "x, y=pyautogui.position()\n",
    "pyautogui.click()\n",
    "pyautogui.mouseDown(x,y,button='left')\n",
    "pyautogui.moveRel(0,150,duration=1)"
   ]
  },
  {
   "cell_type": "code",
   "execution_count": 12,
   "metadata": {},
   "outputs": [],
   "source": [
    "x, y=pyautogui.position()\n",
    "pyautogui.click()\n",
    "pyautogui.mouseDown(x,y)\n",
    "sleep(3)\n",
    "pyautogui.mouseUp()"
   ]
  },
  {
   "cell_type": "code",
   "execution_count": 20,
   "metadata": {},
   "outputs": [],
   "source": [
    "pyautogui.move(200,200)"
   ]
  },
  {
   "cell_type": "code",
   "execution_count": 21,
   "metadata": {},
   "outputs": [],
   "source": [
    "pyautogui.mouseDown()"
   ]
  },
  {
   "cell_type": "code",
   "execution_count": 25,
   "metadata": {},
   "outputs": [],
   "source": [
    "a,b = pyautogui.size()"
   ]
  },
  {
   "cell_type": "code",
   "execution_count": 26,
   "metadata": {},
   "outputs": [
    {
     "output_type": "execute_result",
     "data": {
      "text/plain": [
       "1440"
      ]
     },
     "metadata": {},
     "execution_count": 26
    }
   ],
   "source": [
    "a"
   ]
  },
  {
   "cell_type": "code",
   "execution_count": null,
   "metadata": {},
   "outputs": [],
   "source": []
  }
 ]
}